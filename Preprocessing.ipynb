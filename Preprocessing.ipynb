{
  "nbformat": 4,
  "nbformat_minor": 0,
  "metadata": {
    "colab": {
      "name": "Preprocessing.ipynb",
      "provenance": []
    },
    "kernelspec": {
      "name": "python3",
      "display_name": "Python 3"
    },
    "language_info": {
      "name": "python"
    }
  },
  "cells": [
    {
      "cell_type": "code",
      "metadata": {
        "id": "1G2o-epLWp8Z"
      },
      "source": [
        "import numpy as np\n",
        "import matplotlib.pyplot as plt\n",
        "import pandas as pd\n"
      ],
      "execution_count": 1,
      "outputs": []
    },
    {
      "cell_type": "markdown",
      "metadata": {
        "id": "qZ6WkJwnX-sL"
      },
      "source": [
        "Numpy merupakan library python digunakan untuk komputasi matriks.\n",
        "matplotlib merupakan library python untuk presentasi data berupa grafik/plot\n"
      ]
    },
    {
      "cell_type": "code",
      "metadata": {
        "id": "-u8CkXK9bMOo"
      },
      "source": [
        "dataset = pd.read_csv('Data.csv')\n",
        "x = dataset.iloc[:,:-1].values\n",
        "y = dataset.iloc[:,-1].values\n"
      ],
      "execution_count": 3,
      "outputs": []
    },
    {
      "cell_type": "code",
      "metadata": {
        "colab": {
          "base_uri": "https://localhost:8080/"
        },
        "id": "2PjA7eq7bWeo",
        "outputId": "a503e93c-523c-429d-b4f6-caab2ab65b12"
      },
      "source": [
        "print(x)"
      ],
      "execution_count": 4,
      "outputs": [
        {
          "output_type": "stream",
          "text": [
            "[['France' 44.0 72000.0]\n",
            " ['Spain' 27.0 48000.0]\n",
            " ['Germany' 30.0 54000.0]\n",
            " ['Spain' 38.0 61000.0]\n",
            " ['Germany' 40.0 nan]\n",
            " ['France' 35.0 58000.0]\n",
            " ['Spain' nan 52000.0]\n",
            " ['France' 48.0 79000.0]\n",
            " ['Germany' 50.0 83000.0]\n",
            " ['France' 37.0 67000.0]]\n"
          ],
          "name": "stdout"
        }
      ]
    },
    {
      "cell_type": "code",
      "metadata": {
        "colab": {
          "base_uri": "https://localhost:8080/"
        },
        "id": "hVv9Dgnkce61",
        "outputId": "fd4e5a1a-4a33-4f38-d8e8-24d1142e9e41"
      },
      "source": [
        "print(y)"
      ],
      "execution_count": 5,
      "outputs": [
        {
          "output_type": "stream",
          "text": [
            "['No' 'Yes' 'No' 'No' 'Yes' 'Yes' 'No' 'Yes' 'No' 'Yes']\n"
          ],
          "name": "stdout"
        }
      ]
    },
    {
      "cell_type": "code",
      "metadata": {
        "id": "hWd8P-PYct7j"
      },
      "source": [
        "from sklearn.impute import SimpleImputer\n",
        "imputer = SimpleImputer(missing_values=np.nan, strategy='mean')\n",
        "imputer.fit(x[:, 1:3])\n",
        "x[:, 1:3] = imputer.transform(x[:, 1:3])"
      ],
      "execution_count": 8,
      "outputs": []
    },
    {
      "cell_type": "code",
      "metadata": {
        "colab": {
          "base_uri": "https://localhost:8080/"
        },
        "id": "G6irjWYteCA8",
        "outputId": "c5950656-8163-42f1-ba78-7019d085c03b"
      },
      "source": [
        "print(x)"
      ],
      "execution_count": 9,
      "outputs": [
        {
          "output_type": "stream",
          "text": [
            "[['France' 44.0 72000.0]\n",
            " ['Spain' 27.0 48000.0]\n",
            " ['Germany' 30.0 54000.0]\n",
            " ['Spain' 38.0 61000.0]\n",
            " ['Germany' 40.0 63777.77777777778]\n",
            " ['France' 35.0 58000.0]\n",
            " ['Spain' 38.77777777777778 52000.0]\n",
            " ['France' 48.0 79000.0]\n",
            " ['Germany' 50.0 83000.0]\n",
            " ['France' 37.0 67000.0]]\n"
          ],
          "name": "stdout"
        }
      ]
    },
    {
      "cell_type": "code",
      "metadata": {
        "id": "uVlzfa8vgG4T"
      },
      "source": [
        "from sklearn.compose import ColumnTransformer\n",
        "from sklearn.preprocessing import OneHotEncoder\n",
        "ct =ColumnTransformer(transformers=[('encoder', OneHotEncoder(),[0])], remainder='passthrough')\n",
        "x = np.array(ct.fit_transform(x))\n",
        "                      "
      ],
      "execution_count": 14,
      "outputs": []
    },
    {
      "cell_type": "code",
      "metadata": {
        "colab": {
          "base_uri": "https://localhost:8080/"
        },
        "id": "QEPLpqwCgJeO",
        "outputId": "e9837b53-30ee-4820-a2ab-6e9bea04ec1e"
      },
      "source": [
        "print(x)"
      ],
      "execution_count": 15,
      "outputs": [
        {
          "output_type": "stream",
          "text": [
            "[[1.0 0.0 1.0 0.0 0.0 44.0 72000.0]\n",
            " [0.0 1.0 0.0 0.0 1.0 27.0 48000.0]\n",
            " [0.0 1.0 0.0 1.0 0.0 30.0 54000.0]\n",
            " [0.0 1.0 0.0 0.0 1.0 38.0 61000.0]\n",
            " [0.0 1.0 0.0 1.0 0.0 40.0 63777.77777777778]\n",
            " [1.0 0.0 1.0 0.0 0.0 35.0 58000.0]\n",
            " [0.0 1.0 0.0 0.0 1.0 38.77777777777778 52000.0]\n",
            " [1.0 0.0 1.0 0.0 0.0 48.0 79000.0]\n",
            " [0.0 1.0 0.0 1.0 0.0 50.0 83000.0]\n",
            " [1.0 0.0 1.0 0.0 0.0 37.0 67000.0]]\n"
          ],
          "name": "stdout"
        }
      ]
    },
    {
      "cell_type": "code",
      "metadata": {
        "id": "bdN0kOg4gXKm"
      },
      "source": [
        "from sklearn.preprocessing import LabelEncoder\n",
        "le = LabelEncoder()\n",
        "y = le.fit_transform(y)"
      ],
      "execution_count": 17,
      "outputs": []
    },
    {
      "cell_type": "code",
      "metadata": {
        "colab": {
          "base_uri": "https://localhost:8080/"
        },
        "id": "ILydE4ZngxO7",
        "outputId": "dceb1bd6-70aa-4da2-8b13-dfea31fc5f8c"
      },
      "source": [
        "print(y)"
      ],
      "execution_count": 18,
      "outputs": [
        {
          "output_type": "stream",
          "text": [
            "[0 1 0 0 1 1 0 1 0 1]\n"
          ],
          "name": "stdout"
        }
      ]
    },
    {
      "cell_type": "code",
      "metadata": {
        "id": "Uhj81WMug_8i"
      },
      "source": [
        "from sklearn.model_selection import train_test_split\n",
        "x_train, x_test, y_train, y_test = train_test_split(x, y,test_size = 0.2, random_state = 1)\n"
      ],
      "execution_count": 22,
      "outputs": []
    },
    {
      "cell_type": "code",
      "metadata": {
        "colab": {
          "base_uri": "https://localhost:8080/"
        },
        "id": "0ywuo5I5jaad",
        "outputId": "d8d674dc-963d-4335-cd86-b8e10dcb03ec"
      },
      "source": [
        "print(x_train)"
      ],
      "execution_count": 23,
      "outputs": [
        {
          "output_type": "stream",
          "text": [
            "[[0.0 1.0 0.0 0.0 1.0 38.77777777777778 52000.0]\n",
            " [0.0 1.0 0.0 1.0 0.0 40.0 63777.77777777778]\n",
            " [1.0 0.0 1.0 0.0 0.0 44.0 72000.0]\n",
            " [0.0 1.0 0.0 0.0 1.0 38.0 61000.0]\n",
            " [0.0 1.0 0.0 0.0 1.0 27.0 48000.0]\n",
            " [1.0 0.0 1.0 0.0 0.0 48.0 79000.0]\n",
            " [0.0 1.0 0.0 1.0 0.0 50.0 83000.0]\n",
            " [1.0 0.0 1.0 0.0 0.0 35.0 58000.0]]\n"
          ],
          "name": "stdout"
        }
      ]
    },
    {
      "cell_type": "code",
      "metadata": {
        "colab": {
          "base_uri": "https://localhost:8080/"
        },
        "id": "bwTgJgYOjoRC",
        "outputId": "2adf7502-bfcd-4fe5-a670-9431e9b3e1ca"
      },
      "source": [
        "print(x_test)"
      ],
      "execution_count": 24,
      "outputs": [
        {
          "output_type": "stream",
          "text": [
            "[[0.0 1.0 0.0 1.0 0.0 30.0 54000.0]\n",
            " [1.0 0.0 1.0 0.0 0.0 37.0 67000.0]]\n"
          ],
          "name": "stdout"
        }
      ]
    },
    {
      "cell_type": "code",
      "metadata": {
        "colab": {
          "base_uri": "https://localhost:8080/"
        },
        "id": "8RjM3gFcjwCX",
        "outputId": "72889d39-42ad-46ee-a669-84998fbbbfa1"
      },
      "source": [
        "print(y_train)"
      ],
      "execution_count": 25,
      "outputs": [
        {
          "output_type": "stream",
          "text": [
            "[0 1 0 0 1 1 0 1]\n"
          ],
          "name": "stdout"
        }
      ]
    },
    {
      "cell_type": "code",
      "metadata": {
        "colab": {
          "base_uri": "https://localhost:8080/"
        },
        "id": "cZ6QtauWj5nj",
        "outputId": "4cc1b547-c8b3-434b-b269-e8147ec65126"
      },
      "source": [
        "print(y_test)"
      ],
      "execution_count": 26,
      "outputs": [
        {
          "output_type": "stream",
          "text": [
            "[0 1]\n"
          ],
          "name": "stdout"
        }
      ]
    },
    {
      "cell_type": "code",
      "metadata": {
        "id": "yt0NzHeokMHj"
      },
      "source": [
        "from sklearn.preprocessing import StandardScaler\n",
        "sc = StandardScaler()\n",
        "x_train[:, 3:] = sc.fit_transform(x_train[:, 3:])\n",
        "x_test [:, 3:] = sc.transform(x_test[:, 3:])"
      ],
      "execution_count": 27,
      "outputs": []
    },
    {
      "cell_type": "code",
      "metadata": {
        "colab": {
          "base_uri": "https://localhost:8080/"
        },
        "id": "Ct3tnS9_lUwf",
        "outputId": "13192bcb-b76b-4382-edd2-e8e6ba5a0403"
      },
      "source": [
        "print(x_train)"
      ],
      "execution_count": 28,
      "outputs": [
        {
          "output_type": "stream",
          "text": [
            "[[0.0 1.0 0.0 -0.5773502691896258 1.2909944487358056 -0.19159184384578545\n",
            "  -1.0781259408412425]\n",
            " [0.0 1.0 0.0 1.7320508075688774 -0.7745966692414834\n",
            "  -0.014117293757057777 -0.07013167641635372]\n",
            " [1.0 0.0 1.0 -0.5773502691896258 -0.7745966692414834 0.566708506533324\n",
            "  0.633562432710455]\n",
            " [0.0 1.0 0.0 -0.5773502691896258 1.2909944487358056 -0.30453019390224867\n",
            "  -0.30786617274297867]\n",
            " [0.0 1.0 0.0 -0.5773502691896258 1.2909944487358056 -1.9018011447007988\n",
            "  -1.420463615551582]\n",
            " [1.0 0.0 1.0 -0.5773502691896258 -0.7745966692414834 1.1475343068237058\n",
            "  1.232653363453549]\n",
            " [0.0 1.0 0.0 1.7320508075688774 -0.7745966692414834 1.4379472069688968\n",
            "  1.5749910381638885]\n",
            " [1.0 0.0 1.0 -0.5773502691896258 -0.7745966692414834 -0.7401495441200351\n",
            "  -0.5646194287757332]]\n"
          ],
          "name": "stdout"
        }
      ]
    },
    {
      "cell_type": "code",
      "metadata": {
        "colab": {
          "base_uri": "https://localhost:8080/"
        },
        "id": "Sjpecmhvle39",
        "outputId": "0404c9e1-7aae-4bd1-9792-e8673ac9f37c"
      },
      "source": [
        "print(x_test)"
      ],
      "execution_count": 29,
      "outputs": [
        {
          "output_type": "stream",
          "text": [
            "[[0.0 1.0 0.0 1.7320508075688774 -0.7745966692414834 -1.4661817944830124\n",
            "  -0.9069571034860727]\n",
            " [1.0 0.0 1.0 -0.5773502691896258 -0.7745966692414834\n",
            "  -0.44973664397484414 0.2056403393225306]]\n"
          ],
          "name": "stdout"
        }
      ]
    }
  ]
}